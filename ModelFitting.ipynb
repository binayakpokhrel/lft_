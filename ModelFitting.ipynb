{
 "cells": [
  {
   "cell_type": "markdown",
   "metadata": {},
   "source": [
    "# This time we are going to train and predict on titanic dataset.\n",
    "\n",
    "#### To do this we have taken the columns which showed some correlation with the survival rates and dropped others. Here, we will try to get accuracy near to 1 as much as possible and keep the model out of overfitting scenarios. "
   ]
  },
  {
   "cell_type": "code",
   "execution_count": 3,
   "metadata": {},
   "outputs": [],
   "source": [
    "import pandas as pd\n",
    "import matplotlib\n",
    "import numpy as np\n",
    "import seaborn as sns\n",
    "import matplotlib.pyplot as plt"
   ]
  },
  {
   "cell_type": "markdown",
   "metadata": {},
   "source": [
    "#### Importing things to get-started!"
   ]
  },
  {
   "cell_type": "code",
   "execution_count": 4,
   "metadata": {},
   "outputs": [
    {
     "name": "stderr",
     "output_type": "stream",
     "text": [
      "/home/bean/anaconda3/lib/python3.5/site-packages/sklearn/cross_validation.py:41: DeprecationWarning: This module was deprecated in version 0.18 in favor of the model_selection module into which all the refactored classes and functions are moved. Also note that the interface of the new CV iterators are different from that of this module. This module will be removed in 0.20.\n",
      "  \"This module will be removed in 0.20.\", DeprecationWarning)\n",
      "/home/bean/anaconda3/lib/python3.5/site-packages/sklearn/grid_search.py:42: DeprecationWarning: This module was deprecated in version 0.18 in favor of the model_selection module into which all the refactored classes and functions are moved. This module will be removed in 0.20.\n",
      "  DeprecationWarning)\n"
     ]
    }
   ],
   "source": [
    "from sklearn import linear_model\n",
    "from sklearn.linear_model import LogisticRegression\n",
    "from sklearn.ensemble import RandomForestClassifier\n",
    "from sklearn.linear_model import Perceptron\n",
    "from sklearn.linear_model import SGDClassifier\n",
    "from sklearn.tree import DecisionTreeClassifier\n",
    "from sklearn.neighbors import KNeighborsClassifier\n",
    "from sklearn.svm import SVC, LinearSVC\n",
    "from sklearn.naive_bayes import GaussianNB\n",
    "from sklearn.preprocessing import OneHotEncoder\n",
    "\n",
    "from sklearn.model_selection import train_test_split\n",
    "\n",
    "from sklearn.metrics import confusion_matrix,classification_report\n",
    "from sklearn.grid_search import GridSearchCV\n"
   ]
  },
  {
   "cell_type": "code",
   "execution_count": 5,
   "metadata": {},
   "outputs": [],
   "source": [
    "all_data=pd.read_csv(\".ipynb_checkpoints/train.csv\",)"
   ]
  },
  {
   "cell_type": "code",
   "execution_count": 6,
   "metadata": {},
   "outputs": [],
   "source": [
    "drop_column = ['PassengerId','Cabin', 'Ticket']\n",
    "all_data.drop(drop_column, axis=1, inplace = True)\n",
    "\n",
    "all_data['Embarked'].fillna(all_data['Embarked'].mode()[0], inplace = True)\n",
    "all_data['Fare'] = all_data['Fare'].astype(int)\n",
    "all_data['Age'].fillna(all_data.groupby([\"Sex\"])[\"Age\"].transform(np.mean), inplace=True)\n",
    "\n",
    "x_train = all_data.drop([\"Survived\",\"Name\"], axis=1)\n",
    "y_train = all_data[\"Survived\"]\n"
   ]
  },
  {
   "cell_type": "markdown",
   "metadata": {},
   "source": [
    "### Some Columns are dropped right away like 'PassengerID' ,'Cabin' and 'Ticket' which do not show any relation with survival data and other are more 'NaN' values which signifies nothing to the outcome."
   ]
  },
  {
   "cell_type": "code",
   "execution_count": 7,
   "metadata": {},
   "outputs": [],
   "source": [
    "\n",
    "x_train=pd.concat([x_train,pd.get_dummies(x_train['Embarked'])],axis=1)\n",
    "x_train.drop('Embarked',axis=1,inplace=True)\n",
    "\n",
    "\n",
    "x_train=pd.concat([x_train,pd.get_dummies(x_train['Sex'])],axis=1)\n",
    "x_train.drop('Sex',axis=1,inplace=True)\n",
    "\n"
   ]
  },
  {
   "cell_type": "markdown",
   "metadata": {},
   "source": [
    "### OneHotEncoding\n",
    "#### The categorical data  were converted to multiple binary columns so that model could interpret it and fit with the data."
   ]
  },
  {
   "cell_type": "code",
   "execution_count": 8,
   "metadata": {},
   "outputs": [],
   "source": [
    "X_train, X_test, Y_train, Y_test = train_test_split(x_train, y_train, test_size = 0.33, random_state =23)\n"
   ]
  },
  {
   "cell_type": "markdown",
   "metadata": {},
   "source": [
    "### As the dataset did not come with seperate testing data, it was needed to split the training data into test data.\n",
    "### The ground truth was seperated and put as Y_train and Y_test"
   ]
  },
  {
   "cell_type": "markdown",
   "metadata": {},
   "source": [
    "## Random Forest"
   ]
  },
  {
   "cell_type": "code",
   "execution_count": 9,
   "metadata": {},
   "outputs": [
    {
     "data": {
      "text/plain": [
       "0.964765100671141"
      ]
     },
     "metadata": {},
     "output_type": "display_data"
    },
    {
     "data": {
      "text/plain": [
       "0.8135593220338984"
      ]
     },
     "metadata": {},
     "output_type": "display_data"
    },
    {
     "name": "stdout",
     "output_type": "stream",
     "text": [
      "             precision    recall  f1-score   support\n",
      "\n",
      "       Dead       0.86      0.84      0.85       188\n",
      "    Survive       0.73      0.77      0.75       107\n",
      "\n",
      "avg / total       0.82      0.81      0.81       295\n",
      "\n"
     ]
    }
   ],
   "source": [
    "random_forest = RandomForestClassifier(n_estimators=100)\n",
    "# display(X_train,Y_train)\n",
    "random_forest.fit(X_train, Y_train)\n",
    "\n",
    "Y_prediction = random_forest.predict(X_test)\n",
    "# display(Y_prediction)\n",
    "display(random_forest.score(X_train, Y_train))\n",
    "display(random_forest.score(X_test, Y_test))\n",
    "acc_random_forest = round(random_forest.score(X_test, Y_test) * 100, 2)\n",
    "\n",
    "target_names = ['Dead', 'Survive']\n",
    "confusion_matrix(Y_prediction,Y_test)\n",
    "print(classification_report(Y_test, Y_prediction, target_names=target_names))"
   ]
  },
  {
   "cell_type": "markdown",
   "metadata": {},
   "source": [
    "### RandomForestClassifier model was trained and used to predict the test data, where we found the accuracy of  about 80 % , while the train data had the accuracy of 96% so we can say that the model which had default hyper-parameters as they do in sklearn was heavily overfitted the train data. \n",
    "\n",
    "### The sensitivity or recall was found to be of 82 percent \n",
    "\n",
    "\n",
    "\n",
    "--"
   ]
  },
  {
   "cell_type": "markdown",
   "metadata": {},
   "source": [
    "## S-Gradient Descent"
   ]
  },
  {
   "cell_type": "code",
   "execution_count": 20,
   "metadata": {},
   "outputs": [
    {
     "name": "stdout",
     "output_type": "stream",
     "text": [
      "66.10738255033557\n",
      "69.49152542372882\n",
      "             precision    recall  f1-score   support\n",
      "\n",
      "       Dead       0.68      0.99      0.81       188\n",
      "    Survive       0.90      0.18      0.30       107\n",
      "\n",
      "avg / total       0.76      0.69      0.62       295\n",
      "\n"
     ]
    },
    {
     "name": "stderr",
     "output_type": "stream",
     "text": [
      "/home/bean/anaconda3/lib/python3.5/site-packages/sklearn/linear_model/stochastic_gradient.py:128: FutureWarning: max_iter and tol parameters have been added in <class 'sklearn.linear_model.stochastic_gradient.SGDClassifier'> in 0.19. If both are left unset, they default to max_iter=5 and tol=None. If tol is not None, max_iter defaults to max_iter=1000. From 0.21, default max_iter will be 1000, and default tol will be 1e-3.\n",
      "  \"and default tol will be 1e-3.\" % type(self), FutureWarning)\n"
     ]
    }
   ],
   "source": [
    "SGD=SGDClassifier()\n",
    "SGD.fit(X_train,Y_train)\n",
    "\n",
    "Y_pred=SGD.predict(X_test)\n",
    "print(SGD.score(X_train,Y_train)*100)\n",
    "print(SGD.score(X_test,Y_test)*100)\n",
    "acc_sgd=round(SGD.score(X_test,Y_test)*100,2)\n",
    "confusion_matrix(Y_test,Y_prediction)\n",
    "print(classification_report(Y_test, Y_pred, target_names=target_names))"
   ]
  },
  {
   "cell_type": "markdown",
   "metadata": {},
   "source": [
    "### SGD or Stochastic Gradient Descent model was trained and used to predict the test data, where we found the accuracy of  about 69 % , while the train data had the accuracy of 66% so we can say that the model which had default hyper-parameters as they do in sklearn was heavily overfitted the train data. \n",
    "\n",
    "### The sensitivity or recall was found to be of 69 percent \n",
    "\n",
    "## Train data accuracy : 66%\n",
    "\n",
    "## Test data accuracy : 69%\n",
    "--"
   ]
  },
  {
   "cell_type": "markdown",
   "metadata": {},
   "source": [
    "## KNN"
   ]
  },
  {
   "cell_type": "code",
   "execution_count": 23,
   "metadata": {},
   "outputs": [
    {
     "name": "stdout",
     "output_type": "stream",
     "text": [
      "77.29\n",
      "96.48\n",
      "             precision    recall  f1-score   support\n",
      "\n",
      "       Dead       0.81      0.85      0.83       188\n",
      "    Survive       0.70      0.64      0.67       107\n",
      "\n",
      "avg / total       0.77      0.77      0.77       295\n",
      "\n"
     ]
    }
   ],
   "source": [
    "KNN= KNeighborsClassifier(n_neighbors = 9,weights='distance',algorithm='ball_tree') \n",
    "KNN.fit(X_train, Y_train) \n",
    "Y_pred = KNN.predict(X_test)\n",
    "acc_knn = round(KNN.score(X_test, Y_test) * 100, 2)\n",
    "acc_knntrn = round(KNN.score(X_train, Y_train) * 100, 2)\n",
    "print(acc_knn)\n",
    "print(acc_knntrn)\n",
    "\n",
    "confusion_matrix(Y_test,Y_prediction)\n",
    "print(classification_report(Y_test, Y_pred, target_names=target_names))"
   ]
  },
  {
   "cell_type": "markdown",
   "metadata": {},
   "source": [
    "### KNN or K-NearestNeighbors model was trained and used to predict the test data, where we found the accuracy of  about 77 % , while the train data had the accuracy of 96% so we can say that the model which had default hyper-parameters as they do in sklearn was heavily overfitted the train data. \n",
    "\n",
    "\n",
    "## Train data accuracy : 96%\n",
    "\n",
    "## Test data accuracy : 77%\n",
    "--"
   ]
  },
  {
   "cell_type": "markdown",
   "metadata": {},
   "source": [
    "## SVM"
   ]
  },
  {
   "cell_type": "code",
   "execution_count": 25,
   "metadata": {},
   "outputs": [
    {
     "name": "stdout",
     "output_type": "stream",
     "text": [
      "96.48\n",
      "76.61\n",
      "             precision    recall  f1-score   support\n",
      "\n",
      "       Dead       0.80      0.84      0.82       188\n",
      "    Survive       0.69      0.64      0.66       107\n",
      "\n",
      "avg / total       0.76      0.77      0.76       295\n",
      "\n"
     ]
    }
   ],
   "source": [
    "svm=SVC(C=1.0, cache_size=200, class_weight=None, coef0=0.0,\n",
    "    decision_function_shape='ovr', degree=3, gamma=.093, kernel='rbf',\n",
    "    max_iter=-1, probability=True, random_state=33, shrinking=False,\n",
    "    tol=0.1, verbose=False)\n",
    "svm.fit(X_train,Y_train)\n",
    "Y_pred=svm.predict(X_test)\n",
    "acc_svc=round(svm.score(X_test,Y_test)*100,2)\n",
    "acc_svctrn = round(KNN.score(X_train, Y_train) * 100, 2)\n",
    "print(acc_svctrn)\n",
    "print(acc_svc)\n",
    "print(classification_report(Y_test, Y_pred, target_names=target_names))"
   ]
  },
  {
   "cell_type": "markdown",
   "metadata": {},
   "source": [
    "### SVC or Support Vector Classifier model was trained and used to predict the test data, where we found the accuracy of  about 76 % , while the train data had the accuracy of 96% so we can say that the model which had default hyper-parameters as they do in sklearn was heavily overfitted the train data. \n",
    "\n",
    "\n",
    "## Train data accuracy : 96%\n",
    "\n",
    "## Test data accuracy : 76%\n",
    "--"
   ]
  },
  {
   "cell_type": "markdown",
   "metadata": {},
   "source": [
    "## DTC"
   ]
  },
  {
   "cell_type": "code",
   "execution_count": 32,
   "metadata": {},
   "outputs": [
    {
     "name": "stdout",
     "output_type": "stream",
     "text": [
      "82.71\n",
      "91.28\n",
      "             precision    recall  f1-score   support\n",
      "\n",
      "       Dead       0.82      0.93      0.87       188\n",
      "    Survive       0.83      0.65      0.73       107\n",
      "\n",
      "avg / total       0.83      0.83      0.82       295\n",
      "\n"
     ]
    }
   ],
   "source": [
    "DTC=DecisionTreeClassifier(max_depth=9,random_state=23)\n",
    "DTC.fit(X_train,Y_train)\n",
    "Y_pred=DTC.predict(X_test)\n",
    "acc_dtc=round(DTC.score(X_test,Y_test)*100,2)\n",
    "acc_dtctrn=round(DTC.score(X_train,Y_train)*100,2)\n",
    "print(acc_dtc)\n",
    "print(acc_dtctrn)\n",
    "\n",
    "print(classification_report(Y_test, Y_pred, target_names=target_names))"
   ]
  },
  {
   "cell_type": "markdown",
   "metadata": {},
   "source": [
    "### DTC or DecisionTreeClassifier model was trained and used to predict the test data, where we found the accuracy of  about 82 % , while the train data had the accuracy of 91% so we can say that the model which had default hyper-parameters as they do in sklearn was heavily overfitted the train data. \n",
    "\n",
    "\n",
    "## Train data accuracy : 91%\n",
    "\n",
    "## Test data accuracy : 82%\n",
    "--"
   ]
  },
  {
   "cell_type": "markdown",
   "metadata": {},
   "source": [
    "## Perceptron"
   ]
  },
  {
   "cell_type": "code",
   "execution_count": 33,
   "metadata": {},
   "outputs": [
    {
     "name": "stdout",
     "output_type": "stream",
     "text": [
      "91.28\n",
      "72.2\n",
      "             precision    recall  f1-score   support\n",
      "\n",
      "       Dead       0.70      0.98      0.82       188\n",
      "    Survive       0.88      0.27      0.41       107\n",
      "\n",
      "avg / total       0.77      0.72      0.67       295\n",
      "\n"
     ]
    }
   ],
   "source": [
    "perceptron=Perceptron(penalty='l1',random_state=0,max_iter=2)\n",
    "perceptron.fit(X_train,Y_train)\n",
    "Y_pred=perceptron.predict(X_test)\n",
    "acc_perceptron=round(perceptron.score(X_test,Y_test)*100,2)\n",
    "acc_perceptrain=round(DTC.score(X_train,Y_train)*100,2)\n",
    "print(acc_perceptrain)\n",
    "print(acc_perceptron)\n",
    "print(classification_report(Y_test, Y_pred, target_names=target_names))"
   ]
  },
  {
   "cell_type": "markdown",
   "metadata": {},
   "source": [
    "### Perceptron model was trained and used to predict the test data, where we found the accuracy of  about 72 % , while the train data had the accuracy of 91% so we can say that the model which had default hyper-parameters as they do in sklearn was heavily overfitted the train data. \n",
    "\n",
    "\n",
    "## Train data accuracy : 91%\n",
    "\n",
    "## Test data accuracy : 72%\n",
    "--"
   ]
  },
  {
   "cell_type": "markdown",
   "metadata": {},
   "source": [
    "## Gaussian"
   ]
  },
  {
   "cell_type": "code",
   "execution_count": 34,
   "metadata": {},
   "outputs": [
    {
     "name": "stdout",
     "output_type": "stream",
     "text": [
      "91.28\n",
      "78.64\n",
      "             precision    recall  f1-score   support\n",
      "\n",
      "       Dead       0.85      0.81      0.83       188\n",
      "    Survive       0.69      0.74      0.71       107\n",
      "\n",
      "avg / total       0.79      0.79      0.79       295\n",
      "\n"
     ]
    }
   ],
   "source": [
    "gaussian = GaussianNB()\n",
    "gaussian.fit(X_train, Y_train)  \n",
    "Y_pred = gaussian.predict(X_test)  \n",
    "acc_gaussian = round(gaussian.score(X_test, Y_test) * 100, 2)\n",
    "acc_gaussiantrain=round(DTC.score(X_train,Y_train)*100,2)\n",
    "print(acc_gaussiantrain)\n",
    "\n",
    "print(acc_gaussian)\n",
    "print(classification_report(Y_test, Y_pred, target_names=target_names))"
   ]
  },
  {
   "cell_type": "markdown",
   "metadata": {},
   "source": [
    "### Gaussian model was trained and used to predict the test data, where we found the accuracy of  about 78 % , while the train data had the accuracy of 91% so we can say that the model which had default hyper-parameters as they do in sklearn was heavily overfitted the train data. \n",
    "\n",
    "\n",
    "\n",
    "## Train data accuracy : 91%\n",
    "\n",
    "## Test data accuracy : 78%\n",
    "--"
   ]
  },
  {
   "cell_type": "markdown",
   "metadata": {},
   "source": [
    "## Logistic Regression"
   ]
  },
  {
   "cell_type": "code",
   "execution_count": 35,
   "metadata": {},
   "outputs": [
    {
     "name": "stdout",
     "output_type": "stream",
     "text": [
      "81.21\n",
      "79.66\n",
      "             precision    recall  f1-score   support\n",
      "\n",
      "       Dead       0.83      0.86      0.84       188\n",
      "    Survive       0.74      0.68      0.71       107\n",
      "\n",
      "avg / total       0.79      0.80      0.79       295\n",
      "\n"
     ]
    }
   ],
   "source": [
    "logreg = LogisticRegression()\n",
    "logreg.fit(X_train, Y_train)\n",
    "\n",
    "Y_pred = logreg.predict(X_test)\n",
    "\n",
    "\n",
    "acc_log = round(logreg.score(X_test, Y_test) * 100, 2)\n",
    "acc_logtrn = round(logreg.score(X_train, Y_train) * 100, 2)\n",
    "\n",
    "print(acc_logtrn)\n",
    "print(acc_log)\n",
    "print(classification_report(Y_test, Y_pred, target_names=target_names))"
   ]
  },
  {
   "cell_type": "markdown",
   "metadata": {},
   "source": [
    "### Logistic Regression Classifier model was trained and used to predict the test data, where we found the accuracy of  about 81 % , while the train data had the accuracy of 79% so we can say that the model which had default hyper-parameters as they do in sklearn was heavily overfitted the train data. \n",
    "\n",
    "\n",
    "## Train data accuracy : 81%\n",
    "\n",
    "## Test data accuracy : 79%\n",
    "--"
   ]
  },
  {
   "cell_type": "code",
   "execution_count": 67,
   "metadata": {},
   "outputs": [
    {
     "data": {
      "text/html": [
       "<div>\n",
       "<style scoped>\n",
       "    .dataframe tbody tr th:only-of-type {\n",
       "        vertical-align: middle;\n",
       "    }\n",
       "\n",
       "    .dataframe tbody tr th {\n",
       "        vertical-align: top;\n",
       "    }\n",
       "\n",
       "    .dataframe thead th {\n",
       "        text-align: right;\n",
       "    }\n",
       "</style>\n",
       "<table border=\"1\" class=\"dataframe\">\n",
       "  <thead>\n",
       "    <tr style=\"text-align: right;\">\n",
       "      <th></th>\n",
       "      <th>Model</th>\n",
       "    </tr>\n",
       "    <tr>\n",
       "      <th>Score</th>\n",
       "      <th></th>\n",
       "    </tr>\n",
       "  </thead>\n",
       "  <tbody>\n",
       "    <tr>\n",
       "      <th>82.71</th>\n",
       "      <td>Decision Tree</td>\n",
       "    </tr>\n",
       "    <tr>\n",
       "      <th>81.36</th>\n",
       "      <td>Random Forest</td>\n",
       "    </tr>\n",
       "    <tr>\n",
       "      <th>79.66</th>\n",
       "      <td>Logistic Regression</td>\n",
       "    </tr>\n",
       "    <tr>\n",
       "      <th>78.64</th>\n",
       "      <td>Naive Bayes</td>\n",
       "    </tr>\n",
       "    <tr>\n",
       "      <th>77.29</th>\n",
       "      <td>KNN</td>\n",
       "    </tr>\n",
       "    <tr>\n",
       "      <th>76.61</th>\n",
       "      <td>Support Vector Machines</td>\n",
       "    </tr>\n",
       "    <tr>\n",
       "      <th>72.20</th>\n",
       "      <td>Perceptron</td>\n",
       "    </tr>\n",
       "    <tr>\n",
       "      <th>69.49</th>\n",
       "      <td>Stochastic Gradient Decent</td>\n",
       "    </tr>\n",
       "  </tbody>\n",
       "</table>\n",
       "</div>"
      ],
      "text/plain": [
       "                            Model\n",
       "Score                            \n",
       "82.71               Decision Tree\n",
       "81.36               Random Forest\n",
       "79.66         Logistic Regression\n",
       "78.64                 Naive Bayes\n",
       "77.29                         KNN\n",
       "76.61     Support Vector Machines\n",
       "72.20                  Perceptron\n",
       "69.49  Stochastic Gradient Decent"
      ]
     },
     "execution_count": 67,
     "metadata": {},
     "output_type": "execute_result"
    }
   ],
   "source": [
    "results = pd.DataFrame({\n",
    "    'Model': ['Support Vector Machines', 'KNN', 'Logistic Regression', \n",
    "              'Random Forest', 'Naive Bayes', 'Perceptron', \n",
    "              'Stochastic Gradient Decent', \n",
    "              'Decision Tree'],\n",
    "    'Score': [acc_svc, acc_knn, acc_log, \n",
    "              acc_random_forest, acc_gaussian, acc_perceptron, \n",
    "              acc_sgd, acc_dtc]})\n",
    "results.sort_values(by='Score', ascending=False).set_index('Score').head(9)\n"
   ]
  },
  {
   "cell_type": "markdown",
   "metadata": {},
   "source": [
    "## The randomforest and the decision Tree  classifiet have shown the highest amount of accuracy in the comparison."
   ]
  },
  {
   "cell_type": "code",
   "execution_count": 18,
   "metadata": {},
   "outputs": [
    {
     "data": {
      "text/plain": [
       "{'max_depth': 5,\n",
       " 'max_leaf_nodes': 18,\n",
       " 'min_samples_leaf': 6,\n",
       " 'min_samples_split': 21,\n",
       " 'min_weight_fraction_leaf': 0.01,\n",
       " 'n_estimators': 9,\n",
       " 'random_state': 32}"
      ]
     },
     "metadata": {},
     "output_type": "display_data"
    },
    {
     "name": "stdout",
     "output_type": "stream",
     "text": [
      "0.8204697986577181\n",
      "84.23\n"
     ]
    }
   ],
   "source": [
    "random_forest2 = RandomForestClassifier(n_estimators=100)\n",
    "param_grid2 = {\"n_estimators\": [8,9,10],\n",
    "              \"max_depth\": [4,5,6],\n",
    "              \"min_samples_split\": [20,21,22],\n",
    "              \"min_samples_leaf\": [5,6,7],\n",
    "              \"max_leaf_nodes\": [18,19,20],\n",
    "              \"min_weight_fraction_leaf\": [0.01,0.02,0.03],\n",
    "               \"random_state\":[32]}\n",
    "grid_search = GridSearchCV(random_forest2, param_grid=param_grid2,n_jobs=4,verbose=0)\n",
    "grid_search.fit(X_train,Y_train)\n",
    "g_model =grid_search.best_estimator_\n",
    "display(grid_search.best_params_)\n",
    "print(grid_search.best_score_)\n",
    "y_pred=g_model.predict(X_test)\n",
    "acc_grid_RandF = round(g_model.score(X_train, Y_train) * 100, 2)\n",
    "print(acc_grid_RandF)"
   ]
  },
  {
   "cell_type": "markdown",
   "metadata": {},
   "source": [
    "## We did GridSearch on the randomforest classifier to fine tune the hyper-parameters and we have found some optimal-paramaters to reach up to 84% of accuracy"
   ]
  },
  {
   "cell_type": "code",
   "execution_count": 79,
   "metadata": {},
   "outputs": [
    {
     "data": {
      "text/html": [
       "<div>\n",
       "<style scoped>\n",
       "    .dataframe tbody tr th:only-of-type {\n",
       "        vertical-align: middle;\n",
       "    }\n",
       "\n",
       "    .dataframe tbody tr th {\n",
       "        vertical-align: top;\n",
       "    }\n",
       "\n",
       "    .dataframe thead th {\n",
       "        text-align: right;\n",
       "    }\n",
       "</style>\n",
       "<table border=\"1\" class=\"dataframe\">\n",
       "  <thead>\n",
       "    <tr style=\"text-align: right;\">\n",
       "      <th></th>\n",
       "      <th>importance</th>\n",
       "    </tr>\n",
       "    <tr>\n",
       "      <th>feature</th>\n",
       "      <th></th>\n",
       "    </tr>\n",
       "  </thead>\n",
       "  <tbody>\n",
       "    <tr>\n",
       "      <th>female</th>\n",
       "      <td>0.354</td>\n",
       "    </tr>\n",
       "    <tr>\n",
       "      <th>male</th>\n",
       "      <td>0.167</td>\n",
       "    </tr>\n",
       "    <tr>\n",
       "      <th>Pclass</th>\n",
       "      <td>0.150</td>\n",
       "    </tr>\n",
       "    <tr>\n",
       "      <th>Fare</th>\n",
       "      <td>0.132</td>\n",
       "    </tr>\n",
       "    <tr>\n",
       "      <th>Age</th>\n",
       "      <td>0.116</td>\n",
       "    </tr>\n",
       "    <tr>\n",
       "      <th>SibSp</th>\n",
       "      <td>0.027</td>\n",
       "    </tr>\n",
       "    <tr>\n",
       "      <th>Parch</th>\n",
       "      <td>0.025</td>\n",
       "    </tr>\n",
       "    <tr>\n",
       "      <th>Q</th>\n",
       "      <td>0.015</td>\n",
       "    </tr>\n",
       "    <tr>\n",
       "      <th>S</th>\n",
       "      <td>0.011</td>\n",
       "    </tr>\n",
       "    <tr>\n",
       "      <th>C</th>\n",
       "      <td>0.003</td>\n",
       "    </tr>\n",
       "  </tbody>\n",
       "</table>\n",
       "</div>"
      ],
      "text/plain": [
       "         importance\n",
       "feature            \n",
       "female        0.354\n",
       "male          0.167\n",
       "Pclass        0.150\n",
       "Fare          0.132\n",
       "Age           0.116\n",
       "SibSp         0.027\n",
       "Parch         0.025\n",
       "Q             0.015\n",
       "S             0.011\n",
       "C             0.003"
      ]
     },
     "execution_count": 79,
     "metadata": {},
     "output_type": "execute_result"
    }
   ],
   "source": [
    "importances = pd.DataFrame({'feature':X_train.columns,'importance':np.round(g_model.feature_importances_,3)})\n",
    "importances = importances.sort_values('importance',ascending=False).set_index('feature')\n",
    "importances.head(15)"
   ]
  },
  {
   "cell_type": "markdown",
   "metadata": {},
   "source": [
    "## Above importance table shows the impact of each feature made in the model and predicitions. \n",
    "### Female and Male feature made a huge importance on the model and Pclass comes next\n",
    "### The features shown here as high importance are same as the features we had found to be of importance in EDA segment"
   ]
  },
  {
   "cell_type": "code",
   "execution_count": null,
   "metadata": {},
   "outputs": [],
   "source": []
  },
  {
   "cell_type": "markdown",
   "metadata": {},
   "source": [
    "# Summary\n",
    "\n"
   ]
  },
  {
   "cell_type": "markdown",
   "metadata": {},
   "source": [
    "### -- Some Columns were dropped right away like 'PassengerID' ,'Cabin' and 'Ticket' did not have any relation with survival data and other columns with large amount of  'NaN' values which signifies nothing to the outcome."
   ]
  },
  {
   "cell_type": "markdown",
   "metadata": {},
   "source": [
    "### -- As the dataset did not come with seperate testing data, it was needed to split the training data into test data.\n",
    "### -- The ground truth was seperated and put as Y_train and Y_test"
   ]
  },
  {
   "cell_type": "markdown",
   "metadata": {},
   "source": [
    "### --The categorical data  were converted to multiple binary columns so that model could interpret it and fit with the data."
   ]
  },
  {
   "cell_type": "markdown",
   "metadata": {},
   "source": [
    "### Classifiers used:\n"
   ]
  },
  {
   "cell_type": "code",
   "execution_count": 81,
   "metadata": {},
   "outputs": [
    {
     "data": {
      "text/html": [
       "<div>\n",
       "<style scoped>\n",
       "    .dataframe tbody tr th:only-of-type {\n",
       "        vertical-align: middle;\n",
       "    }\n",
       "\n",
       "    .dataframe tbody tr th {\n",
       "        vertical-align: top;\n",
       "    }\n",
       "\n",
       "    .dataframe thead th {\n",
       "        text-align: right;\n",
       "    }\n",
       "</style>\n",
       "<table border=\"1\" class=\"dataframe\">\n",
       "  <thead>\n",
       "    <tr style=\"text-align: right;\">\n",
       "      <th></th>\n",
       "      <th>Model</th>\n",
       "    </tr>\n",
       "    <tr>\n",
       "      <th>Score</th>\n",
       "      <th></th>\n",
       "    </tr>\n",
       "  </thead>\n",
       "  <tbody>\n",
       "    <tr>\n",
       "      <th>76.61</th>\n",
       "      <td>Support Vector Machines</td>\n",
       "    </tr>\n",
       "    <tr>\n",
       "      <th>77.29</th>\n",
       "      <td>KNN</td>\n",
       "    </tr>\n",
       "    <tr>\n",
       "      <th>79.66</th>\n",
       "      <td>Logistic Regression</td>\n",
       "    </tr>\n",
       "    <tr>\n",
       "      <th>81.36</th>\n",
       "      <td>Random Forest</td>\n",
       "    </tr>\n",
       "    <tr>\n",
       "      <th>78.64</th>\n",
       "      <td>Naive Bayes</td>\n",
       "    </tr>\n",
       "    <tr>\n",
       "      <th>72.20</th>\n",
       "      <td>Perceptron</td>\n",
       "    </tr>\n",
       "    <tr>\n",
       "      <th>69.49</th>\n",
       "      <td>Stochastic Gradient Decent</td>\n",
       "    </tr>\n",
       "    <tr>\n",
       "      <th>82.71</th>\n",
       "      <td>Decision Tree</td>\n",
       "    </tr>\n",
       "  </tbody>\n",
       "</table>\n",
       "</div>"
      ],
      "text/plain": [
       "                            Model\n",
       "Score                            \n",
       "76.61     Support Vector Machines\n",
       "77.29                         KNN\n",
       "79.66         Logistic Regression\n",
       "81.36               Random Forest\n",
       "78.64                 Naive Bayes\n",
       "72.20                  Perceptron\n",
       "69.49  Stochastic Gradient Decent\n",
       "82.71               Decision Tree"
      ]
     },
     "execution_count": 81,
     "metadata": {},
     "output_type": "execute_result"
    }
   ],
   "source": [
    "results.set_index('Score').head(9)"
   ]
  },
  {
   "cell_type": "code",
   "execution_count": 76,
   "metadata": {},
   "outputs": [
    {
     "data": {
      "text/plain": [
       "<matplotlib.axes._subplots.AxesSubplot at 0x7f5d636a90b8>"
      ]
     },
     "execution_count": 76,
     "metadata": {},
     "output_type": "execute_result"
    },
    {
     "data": {
      "image/png": "[encoded data removed]",
      "text/plain": [
       "<matplotlib.figure.Figure at 0x7f5d636b24a8>"
      ]
     },
     "metadata": {},
     "output_type": "display_data"
    }
   ],
   "source": [
    "plt.figure(figsize=(15,10))\n",
    "sns.pointplot(y=np.array(results.Score),x=results.Model)"
   ]
  },
  {
   "cell_type": "markdown",
   "metadata": {},
   "source": [
    "### -- The DecisionTreeClassifier model had the best accuracy of 82%"
   ]
  },
  {
   "cell_type": "markdown",
   "metadata": {},
   "source": [
    "### -- We did some parameters tuning on RandomClassifier and found some optimal parameters with upto 84% of accuracy"
   ]
  },
  {
   "cell_type": "markdown",
   "metadata": {},
   "source": [
    "### -- Female and Male feature made a huge importance on the model and Pclass comes next\n",
    "### -- The features shown here as high importance are same as the features we had found to be of importance in EDA segment"
   ]
  }
 ],
 "metadata": {
  "kernelspec": {
   "display_name": "Python 3",
   "language": "python",
   "name": "python3"
  },
  "language_info": {
   "codemirror_mode": {
    "name": "ipython",
    "version": 3
   },
   "file_extension": ".py",
   "mimetype": "text/x-python",
   "name": "python",
   "nbconvert_exporter": "python",
   "pygments_lexer": "ipython3",
   "version": "3.5.5"
  }
 },
 "nbformat": 4,
 "nbformat_minor": 2
}
